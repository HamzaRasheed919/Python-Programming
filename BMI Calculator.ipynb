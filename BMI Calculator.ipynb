{
 "cells": [
  {
   "cell_type": "code",
   "execution_count": 17,
   "id": "8dac187b-e45b-49a3-a8ac-fd6b4646e7eb",
   "metadata": {},
   "outputs": [
    {
     "name": "stdin",
     "output_type": "stream",
     "text": [
      "Enter your name Hamza\n",
      "Enter your weight in pounds:  126\n",
      "Enter your height in inches:  68\n"
     ]
    },
    {
     "name": "stdout",
     "output_type": "stream",
     "text": [
      "19.156141868512112\n",
      "Hamza, You are Normal Weight.\n"
     ]
    }
   ],
   "source": [
    "name = input(\"Enter your name\");\n",
    "weight = int(input(\"Enter your weight in pounds: \"));\n",
    "height = int(input(\"Enter your height in inches: \"));\n",
    "\n",
    "BMI = (weight / (height*height)) * 703;\n",
    "print(BMI);\n",
    "\n",
    "if BMI>0:\n",
    "    if(BMI<18.5):\n",
    "        print(name + \", You are UnderWeight.\")\n",
    "    elif(BMI<=24.9):\n",
    "       print(name + \", You are Normal Weight.\")\n",
    "    elif(BMI<=29.9):\n",
    "       print(name + \", You are Overweight.\")\n",
    "    elif(BMI<=34.9):\n",
    "       print(name + \", You are Severely Obese.\")\n",
    "    elif(BMI<40):\n",
    "       print(name + \", You are over Morbidly Obese.\")"
   ]
  },
  {
   "cell_type": "code",
   "execution_count": 22,
   "id": "20f63a6c-bf5e-48f3-a294-7a94aa250f0e",
   "metadata": {},
   "outputs": [
    {
     "data": {
      "text/plain": [
       "float"
      ]
     },
     "execution_count": 22,
     "metadata": {},
     "output_type": "execute_result"
    }
   ],
   "source": [
    "type(BMI)"
   ]
  },
  {
   "cell_type": "code",
   "execution_count": null,
   "id": "9f0eb98b-4cde-4345-a2ec-e3203aaec5bf",
   "metadata": {},
   "outputs": [],
   "source": [
    "Under 18.5\tUnderweight\tMinimal\n",
    "18.5 - 24.9\tNormal Weight\tMinimal\n",
    "25 - 29.9\tOverweight\tIncreased\n",
    "30 - 34.9\tObese\tHigh\n",
    "35 - 39.9\tSeverely Obese\tVery High\n",
    "40 and over\tMorbidly Obese\tExtremely High"
   ]
  }
 ],
 "metadata": {
  "kernelspec": {
   "display_name": "Python 3 (ipykernel)",
   "language": "python",
   "name": "python3"
  },
  "language_info": {
   "codemirror_mode": {
    "name": "ipython",
    "version": 3
   },
   "file_extension": ".py",
   "mimetype": "text/x-python",
   "name": "python",
   "nbconvert_exporter": "python",
   "pygments_lexer": "ipython3",
   "version": "3.12.2"
  }
 },
 "nbformat": 4,
 "nbformat_minor": 5
}
