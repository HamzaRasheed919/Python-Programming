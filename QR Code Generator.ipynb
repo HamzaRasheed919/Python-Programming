{
 "cells": [
  {
   "cell_type": "code",
   "execution_count": 1,
   "id": "9966710c-aaaa-40f5-a388-e7b5670a16bd",
   "metadata": {},
   "outputs": [
    {
     "name": "stdout",
     "output_type": "stream",
     "text": [
      "Collecting qrcode\n",
      "  Downloading qrcode-7.4.2-py3-none-any.whl.metadata (17 kB)\n",
      "Requirement already satisfied: typing-extensions in d:\\python\\lib\\site-packages (from qrcode) (4.10.0)\n",
      "Collecting pypng (from qrcode)\n",
      "  Downloading pypng-0.20220715.0-py3-none-any.whl.metadata (13 kB)\n",
      "Requirement already satisfied: colorama in c:\\users\\hamza\\appdata\\roaming\\python\\python312\\site-packages (from qrcode) (0.4.6)\n",
      "Downloading qrcode-7.4.2-py3-none-any.whl (46 kB)\n",
      "   ---------------------------------------- 0.0/46.2 kB ? eta -:--:--\n",
      "   -------- ------------------------------- 10.2/46.2 kB ? eta -:--:--\n",
      "   -------- ------------------------------- 10.2/46.2 kB ? eta -:--:--\n",
      "   -------------------------- ------------- 30.7/46.2 kB 220.2 kB/s eta 0:00:01\n",
      "   -------------------------- ------------- 30.7/46.2 kB 220.2 kB/s eta 0:00:01\n",
      "   -------------------------- ------------- 30.7/46.2 kB 220.2 kB/s eta 0:00:01\n",
      "   -------------------------- ------------- 30.7/46.2 kB 220.2 kB/s eta 0:00:01\n",
      "   ----------------------------------- ---- 41.0/46.2 kB 109.3 kB/s eta 0:00:01\n",
      "   ----------------------------------- ---- 41.0/46.2 kB 109.3 kB/s eta 0:00:01\n",
      "   ----------------------------------- ---- 41.0/46.2 kB 109.3 kB/s eta 0:00:01\n",
      "   ---------------------------------------- 46.2/46.2 kB 85.4 kB/s eta 0:00:00\n",
      "Downloading pypng-0.20220715.0-py3-none-any.whl (58 kB)\n",
      "   ---------------------------------------- 0.0/58.1 kB ? eta -:--:--\n",
      "   ------- -------------------------------- 10.2/58.1 kB ? eta -:--:--\n",
      "   ---------------------------- ----------- 41.0/58.1 kB 487.6 kB/s eta 0:00:01\n",
      "   ----------------------------------- ---- 51.2/58.1 kB 525.1 kB/s eta 0:00:01\n",
      "   ----------------------------------- ---- 51.2/58.1 kB 525.1 kB/s eta 0:00:01\n",
      "   ---------------------------------------- 58.1/58.1 kB 235.6 kB/s eta 0:00:00\n",
      "Installing collected packages: pypng, qrcode\n",
      "Successfully installed pypng-0.20220715.0 qrcode-7.4.2\n"
     ]
    }
   ],
   "source": [
    "!pip install qrcode;"
   ]
  },
  {
   "cell_type": "code",
   "execution_count": 9,
   "id": "1245ecd1-f17b-44c0-a364-c815c12a1116",
   "metadata": {},
   "outputs": [],
   "source": [
    "import qrcode as qr\n",
    "img = qr.make(\"https://www.youtube.com/watch?v=1KEbiqRWOkA\");\n",
    "img.save(\"Alex_Analyst_Youtube.png\");"
   ]
  },
  {
   "cell_type": "code",
   "execution_count": 5,
   "id": "42804de5-b2b3-41b9-a665-8b7c0563aae4",
   "metadata": {},
   "outputs": [],
   "source": [
    "import qrcode\n",
    "from PIL import Image"
   ]
  },
  {
   "cell_type": "code",
   "execution_count": 8,
   "id": "a4e2063a-5b2d-4d90-b560-6ae89d596ff5",
   "metadata": {},
   "outputs": [],
   "source": [
    "qr = qrcode.QRCode(version = 1,\n",
    "                  error_correction = qrcode.constants.ERROR_CORRECT_H,\n",
    "                  box_size = 10, border = 10,)\n",
    "qr.add_data(\"https://careerfoundry.com/en/blog/data-analytics/data-analytics-portfolio-project-ideas/\")\n",
    "qr.make(fit = True)\n",
    "image = qr.make_image(fill_color = \"green\", back_color = \"white\")\n",
    "image.save(\"Projects_data.png\");"
   ]
  },
  {
   "cell_type": "code",
   "execution_count": null,
   "id": "98cca17a-629e-4761-ab4c-35e0f4502d2b",
   "metadata": {},
   "outputs": [],
   "source": []
  }
 ],
 "metadata": {
  "kernelspec": {
   "display_name": "Python 3 (ipykernel)",
   "language": "python",
   "name": "python3"
  },
  "language_info": {
   "codemirror_mode": {
    "name": "ipython",
    "version": 3
   },
   "file_extension": ".py",
   "mimetype": "text/x-python",
   "name": "python",
   "nbconvert_exporter": "python",
   "pygments_lexer": "ipython3",
   "version": "3.12.2"
  }
 },
 "nbformat": 4,
 "nbformat_minor": 5
}
